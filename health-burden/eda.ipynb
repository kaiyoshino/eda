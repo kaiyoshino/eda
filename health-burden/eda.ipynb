{
 "cells": [
  {
   "cell_type": "markdown",
   "metadata": {},
   "source": [
    "# Health Burden"
   ]
  },
  {
   "cell_type": "markdown",
   "metadata": {},
   "source": [
    "## Set up"
   ]
  },
  {
   "cell_type": "code",
   "execution_count": 28,
   "metadata": {
    "collapsed": false
   },
   "outputs": [
    {
     "name": "stderr",
     "output_type": "stream",
     "text": [
      "/Users/kai/anaconda3/lib/python3.5/site-packages/matplotlib/font_manager.py:273: UserWarning:\n",
      "\n",
      "Matplotlib is building the font cache using fc-list. This may take a moment.\n",
      "\n",
      "/Users/kai/anaconda3/lib/python3.5/site-packages/matplotlib/font_manager.py:273: UserWarning:\n",
      "\n",
      "Matplotlib is building the font cache using fc-list. This may take a moment.\n",
      "\n"
     ]
    }
   ],
   "source": [
    "# Read in data\n",
    "import pandas\n",
    "from plotly.offline import plot\n",
    "import plotly.graph_objs as go\n",
    "data = pandas.read_csv('./data/prepped/risk-data.csv')"
   ]
  },
  {
   "cell_type": "code",
   "execution_count": null,
   "metadata": {
    "collapsed": true
   },
   "outputs": [],
   "source": []
  },
  {
   "cell_type": "markdown",
   "metadata": {},
   "source": [
    "## Data Structure\n",
    "To get a basic sense of your dataset, check the following:\n",
    "\n",
    "- How large is the dataset (rows, columns)?\n",
    "- What are the variables present in the dataset?\n",
    "- What is the data type of each variable?"
   ]
  },
  {
   "cell_type": "code",
   "execution_count": 26,
   "metadata": {
    "collapsed": false
   },
   "outputs": [
    {
     "name": "stdout",
     "output_type": "stream",
     "text": [
      "rows=1950, cols=12\n",
      "country          object\n",
      "country.code     object\n",
      "super.region     object\n",
      "region           object\n",
      "sex              object\n",
      "age              object\n",
      "pop             float64\n",
      "alcohol.use     float64\n",
      "drug.use        float64\n",
      "high.meat       float64\n",
      "low.exercise    float64\n",
      "smoking         float64\n",
      "dtype: object\n"
     ]
    }
   ],
   "source": [
    "shape = data.shape\n",
    "print(\"rows=%d, cols=%d\" % shape)\n",
    "print(data.dtypes)\n"
   ]
  },
  {
   "cell_type": "markdown",
   "metadata": {},
   "source": [
    "\n",
    "## Univariate Analysis\n",
    "For each variable of interest, answer the following questions. As you do so, begin making a list of further questions you would like to investigate:\n",
    "\n",
    "- What does the distribution of each (risk factor) variable look like?\n",
    "- Is any variable ever missing (and if so, why)?\n",
    "- What are the basic summary statistics (mean, median, standard deviation) each variable, and what is it's range (min/max)?\n",
    "- What do you find surprising?"
   ]
  },
  {
   "cell_type": "code",
   "execution_count": 48,
   "metadata": {
    "collapsed": false
   },
   "outputs": [
    {
     "data": {
      "text/plain": [
       "'file:///Users/kai/Google Drive/370/lecture/eda/health-burden/temp-plot.html'"
      ]
     },
     "execution_count": 48,
     "metadata": {},
     "output_type": "execute_result"
    }
   ],
   "source": [
    "\n",
    "pop = go.Box(name = 'pop', y = list(data.get(\"pop\")))\n",
    "alcohol = go.Box(name = 'alcohol', y = list(data.get(\"alcohol.use\")))\n",
    "meat = go.Box(name = 'meat', y = list(data.get(\"high.meat\")))\n",
    "exercise = go.Box(name = 'exercise', y = list(data.get(\"low.exercise\")))\n",
    "smoking = go.Box(name = 'smoking', y = list(data.get(\"smoking\")))\n",
    "\n",
    "boxData = [pop, alcohol, meat, exercise, smoking]\n",
    "\n",
    "## log scale on y axis to scale a bit better\n",
    "layout = go.Layout(\n",
    "    yaxis=dict(\n",
    "        type='log',\n",
    "        autorange=True\n",
    "    )\n",
    ")\n",
    "fig = go.Figure(data=boxData, layout=layout)\n",
    "plot(fig)\n",
    "\n",
    "## this box plot shows the mean, min, and max of each risk factor (hover over each box)\n",
    "## why is pop so high?\n",
    "## can't really tell if any data is missing from this vis but I will come back if I find anything"
   ]
  },
  {
   "cell_type": "markdown",
   "metadata": {},
   "source": [
    "## Univariate analysis (by age)\n",
    "In this section, you should investigate how each (risk-variable) varies by **age group**. More specifically, consider if the distribution of each variable of interest (smoking, alcohol use, etc.) is consistent across age-groups."
   ]
  },
  {
   "cell_type": "code",
   "execution_count": 3,
   "metadata": {
    "collapsed": true
   },
   "outputs": [],
   "source": [
    "trace0 = go.Scatter(\n",
    "    x = list(data.get(\"\"))\n",
    ")\n",
    "age_plot_data = []"
   ]
  },
  {
   "cell_type": "markdown",
   "metadata": {},
   "source": [
    "## Univariate analysis (by sex)\n",
    "In this section, you should investigate how each (risk-variable) varies by **sex group**. More specifically, consider if the distribution of each variable of interest (smoking, alcohol use, etc.) is consistent across sex-groups. Depending on your procedure, you may need to **reshape your data**."
   ]
  },
  {
   "cell_type": "code",
   "execution_count": 4,
   "metadata": {
    "collapsed": true
   },
   "outputs": [],
   "source": [
    "# Code goes here"
   ]
  },
  {
   "cell_type": "markdown",
   "metadata": {},
   "source": [
    "## Univariate analysis (by country)\n",
    "In this section, you should investigate how each (risk-variable) varies by **country**. Given the number of countries present in the dataset, I suggest that you aggregate your data by region. In order to do this, you'll need to **convert death rates to deaths** using the `pop` column."
   ]
  },
  {
   "cell_type": "code",
   "execution_count": 5,
   "metadata": {
    "collapsed": true
   },
   "outputs": [],
   "source": [
    "# Code goes here"
   ]
  },
  {
   "cell_type": "markdown",
   "metadata": {},
   "source": [
    "## Bivariate analysis\n",
    "In this section, you should compare risks-variables to one another to see how they co-vary. Use simple statistical tests (i.e., **correlation**) and visualization as you see fit. "
   ]
  },
  {
   "cell_type": "code",
   "execution_count": 6,
   "metadata": {
    "collapsed": true
   },
   "outputs": [],
   "source": [
    "# Code goes here"
   ]
  }
 ],
 "metadata": {
  "anaconda-cloud": {},
  "kernelspec": {
   "display_name": "Python [default]",
   "language": "python",
   "name": "python3"
  },
  "language_info": {
   "codemirror_mode": {
    "name": "ipython",
    "version": 3
   },
   "file_extension": ".py",
   "mimetype": "text/x-python",
   "name": "python",
   "nbconvert_exporter": "python",
   "pygments_lexer": "ipython3",
   "version": "3.5.2"
  }
 },
 "nbformat": 4,
 "nbformat_minor": 0
}
